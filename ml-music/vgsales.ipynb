{
 "cells": [
  {
   "cell_type": "code",
   "execution_count": null,
   "id": "a665461a",
   "metadata": {},
   "outputs": [
    {
     "name": "stdout",
     "output_type": "stream",
     "text": [
      "8004\n"
     ]
    }
   ],
   "source": [
    "import pandas as pd\n",
    "import sqldf\n",
    "\n",
    "data_frame = pd.read_csv('./data/vgsales.csv')\n",
    "data_frame\n",
    "\n",
    "\n",
    "# 1. Requête qui retourne tous les jeux sortis sur NES.\n",
    "\n",
    "# for game in data_frame.values:\n",
    "#     if game[2] == \"NES\":\n",
    "#         print(game[1])\n",
    "\n",
    "# 2. Requête qui retourne la somme des ventes japonaises de tous les jeux.\n",
    "\n",
    "\n",
    "# print(sum(data_frame[\"JP_Sales\"]))\n",
    "\n",
    "# 3. Requête qui retourne le nombre de jeux sorti à partir de 2008.\n",
    "\n",
    "# nbr_of_games = 0\n",
    "# for y in data_frame[\"Year\"]:\n",
    "#     if y >= 2008:\n",
    "#         nbr_of_games += 1\n",
    "\n",
    "# print(nbr_of_games)\n",
    "\n",
    "# 4. Requête qui retourne le pourcentage de jeu Wii.\n",
    "\n",
    "# nbr_wii_games = 0\n",
    "# for y in data_frame[\"Platform\"]:\n",
    "#     if y == \"Wii\":\n",
    "#         nbr_wii_games += 1\n",
    "\n",
    "# percentage_wii = (nbr_wii_games/len(data_frame)) * 100\n",
    "# print(percentage_wii)\n"
   ]
  }
 ],
 "metadata": {
  "kernelspec": {
   "display_name": ".venv",
   "language": "python",
   "name": "python3"
  },
  "language_info": {
   "codemirror_mode": {
    "name": "ipython",
    "version": 3
   },
   "file_extension": ".py",
   "mimetype": "text/x-python",
   "name": "python",
   "nbconvert_exporter": "python",
   "pygments_lexer": "ipython3",
   "version": "3.9.6"
  }
 },
 "nbformat": 4,
 "nbformat_minor": 5
}
