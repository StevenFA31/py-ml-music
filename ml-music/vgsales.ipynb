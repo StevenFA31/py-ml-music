{
 "cells": [
  {
   "cell_type": "code",
   "execution_count": null,
   "id": "a665461a",
   "metadata": {},
   "outputs": [
    {
     "name": "stdout",
     "output_type": "stream",
     "text": [
      "8004\n"
     ]
    }
   ],
   "source": [
    "import pandas as pd\n",
    "import sqldf\n",
    "\n",
    "data_frame = pd.read_csv('./data/vgsales.csv')\n",
    "data_frame\n",
    "\n",
    "\n",
    "# 1. Requête qui retourne tous les jeux sortis sur NES.\n",
    "\n",
    "# for game in data_frame.values:\n",
    "#     if game[2] == \"NES\":\n",
    "#         print(game[1])\n",
    "\n",
    "# 2. Requête qui retourne la somme des ventes japonaises de tous les jeux.\n",
    "\n",
    "\n",
    "# print(sum(data_frame[\"JP_Sales\"]))\n",
    "\n",
    "# 3. Requête qui retourne le nombre de jeux sorti à partir de 2008.\n",
    "\n",
    "# nbr_of_games = 0\n",
    "# for y in data_frame[\"Year\"]:\n",
    "#     if y >= 2008:\n",
    "#         nbr_of_games += 1\n",
    "\n",
    "# print(nbr_of_games)\n",
    "\n",
    "# 4. Requête qui retourne le pourcentage de jeu Wii.\n",
    "\n",
    "# nbr_wii_games = 0\n",
    "# for y in data_frame[\"Platform\"]:\n",
    "#     if y == \"Wii\":\n",
    "#         nbr_wii_games += 1\n",
    "\n",
    "# percentage_wii = (nbr_wii_games/len(data_frame)) * 100\n",
    "# print(percentage_wii)\n"
   ]
  },
  {
   "cell_type": "code",
   "execution_count": 72,
   "id": "b6e3879f",
   "metadata": {},
   "outputs": [
    {
     "data": {
      "application/vnd.microsoft.datawrangler.viewer.v0+json": {
       "columns": [
        {
         "name": "index",
         "rawType": "int64",
         "type": "integer"
        },
        {
         "name": "Wii_pourcentage",
         "rawType": "float64",
         "type": "float"
        }
       ],
       "ref": "dcf9fcf3-0d2b-4f90-9043-77f093af71f2",
       "rows": [
        [
         "0",
         "100.0"
        ]
       ],
       "shape": {
        "columns": 1,
        "rows": 1
       }
      },
      "text/html": [
       "<div>\n",
       "<style scoped>\n",
       "    .dataframe tbody tr th:only-of-type {\n",
       "        vertical-align: middle;\n",
       "    }\n",
       "\n",
       "    .dataframe tbody tr th {\n",
       "        vertical-align: top;\n",
       "    }\n",
       "\n",
       "    .dataframe thead th {\n",
       "        text-align: right;\n",
       "    }\n",
       "</style>\n",
       "<table border=\"1\" class=\"dataframe\">\n",
       "  <thead>\n",
       "    <tr style=\"text-align: right;\">\n",
       "      <th></th>\n",
       "      <th>Wii_pourcentage</th>\n",
       "    </tr>\n",
       "  </thead>\n",
       "  <tbody>\n",
       "    <tr>\n",
       "      <th>0</th>\n",
       "      <td>100.0</td>\n",
       "    </tr>\n",
       "  </tbody>\n",
       "</table>\n",
       "</div>"
      ],
      "text/plain": [
       "   Wii_pourcentage\n",
       "0            100.0"
      ]
     },
     "execution_count": 72,
     "metadata": {},
     "output_type": "execute_result"
    }
   ],
   "source": [
    "import pandas as pd\n",
    "import sqldf\n",
    "\n",
    "data_frame = pd.read_csv('./data/vgsales.csv')\n",
    "data_frame.head\n",
    "\n",
    "# BONUS. Réaliser les requêtes ci-dessus avec sqldf.\n",
    "# 1. Requête qui retourne tous les jeux sortis sur NES.\n",
    "\n",
    "# query = \"\"\"\n",
    "# SELECT Name\n",
    "# FROM data_frame\n",
    "# WHERE Platform = \"NES\"\n",
    "# \"\"\"\n",
    "\n",
    "# sqldf.run(query)\n",
    "\n",
    "# 2. Requête qui retourne la somme des ventes japonaises de tous les jeux.\n",
    "\n",
    "# query = \"\"\"\n",
    "# SELECT sum(JP_Sales) as Total_price_jp_sales\n",
    "# FROM data_frame\n",
    "# \"\"\"\n",
    "\n",
    "# sqldf.run(query)\n",
    "\n",
    "# 3. Requête qui retourne le nombre de jeux sorti à partir de 2008.\n",
    "\n",
    "# query = \"\"\"\n",
    "# SELECT count() as Total_game_since_2008\n",
    "# FROM data_frame\n",
    "# WHERE Year >= 2008\n",
    "# \"\"\"\n",
    "\n",
    "# sqldf.run(query)\n",
    "\n",
    "\n",
    "# 4. Requête qui retourne le pourcentage de jeu Wii.\n",
    "\n",
    "query = \"\"\"\n",
    "SELECT count(*) * 100.0 / sum(count(Platform)) over() as Wii_pourcentage\n",
    "FROM data_frame\n",
    "WHERE Platform = \"Wii\"\n",
    "\"\"\"\n",
    "\n",
    "sqldf.run(query)\n",
    "\n",
    "# nbr_wii_games = 0\n",
    "# for y in data_frame[\"Platform\"]:\n",
    "#     if y == \"Wii\":\n",
    "#         nbr_wii_games += 1\n",
    "\n",
    "# percentage_wii = (nbr_wii_games/len(data_frame)) * 100\n",
    "# print(percentage_wii)"
   ]
  }
 ],
 "metadata": {
  "kernelspec": {
   "display_name": ".venv",
   "language": "python",
   "name": "python3"
  },
  "language_info": {
   "codemirror_mode": {
    "name": "ipython",
    "version": 3
   },
   "file_extension": ".py",
   "mimetype": "text/x-python",
   "name": "python",
   "nbconvert_exporter": "python",
   "pygments_lexer": "ipython3",
   "version": "3.9.6"
  }
 },
 "nbformat": 4,
 "nbformat_minor": 5
}
